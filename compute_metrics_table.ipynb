{
 "cells": [
  {
   "cell_type": "code",
   "execution_count": 27,
   "metadata": {},
   "outputs": [],
   "source": [
    "all_metrics = {}\n",
    "all_metrics['OrbitDataset'] = {}\n",
    "all_metrics['OrbitDataset']['Set2Set'] = {}\n",
    "all_metrics['OrbitDataset']['Set2Set']['set2set_orbit10k_500'] = {}\n",
    "all_metrics['OrbitDataset']['Set2Set']['set2set_orbit10k_500']['W2'] = [1, 2, 3]\n",
    "all_metrics['OrbitDataset']['Set2Set']['set2set_orbit10k_500']['time_pd'] = [0.1, 0.2, 0.1]\n",
    "all_metrics['OrbitDataset']['Set2Set']['set2set_orbit10k_500']['PIE_pd'] = [0.3 ,0.6, 0.4]\n",
    "\n",
    "all_metrics['OrbitDataset']['TopologyNet'] = {}\n",
    "all_metrics['OrbitDataset']['TopologyNet']['topologynet_orbit10k_500'] = {}\n",
    "all_metrics['OrbitDataset']['TopologyNet']['topologynet_orbit10k_500']['time_pi'] = [0.4, 0.5, 0.6]\n",
    "all_metrics['OrbitDataset']['TopologyNet']['topologynet_orbit10k_500']['PIE_pi'] = [0.1 ,0.4, 0.3]"
   ]
  },
  {
   "cell_type": "code",
   "execution_count": 32,
   "metadata": {},
   "outputs": [
    {
     "data": {
      "text/html": [
       "<div>\n",
       "<style scoped>\n",
       "    .dataframe tbody tr th:only-of-type {\n",
       "        vertical-align: middle;\n",
       "    }\n",
       "\n",
       "    .dataframe tbody tr th {\n",
       "        vertical-align: top;\n",
       "    }\n",
       "\n",
       "    .dataframe thead th {\n",
       "        text-align: right;\n",
       "    }\n",
       "</style>\n",
       "<table border=\"1\" class=\"dataframe\">\n",
       "  <thead>\n",
       "    <tr style=\"text-align: right;\">\n",
       "      <th></th>\n",
       "      <th>0</th>\n",
       "      <th>1</th>\n",
       "      <th>2</th>\n",
       "      <th>3</th>\n",
       "      <th>4</th>\n",
       "      <th>5</th>\n",
       "    </tr>\n",
       "  </thead>\n",
       "  <tbody>\n",
       "    <tr>\n",
       "      <th>0</th>\n",
       "      <td>OrbitDataset</td>\n",
       "      <td>2.0000 ± 0.8165</td>\n",
       "      <td>0.4333 ± 0.1247</td>\n",
       "      <td>0.2667 ± 0.1247</td>\n",
       "      <td>0.1333 ± 0.0471</td>\n",
       "      <td>0.5000 ± 0.0816</td>\n",
       "    </tr>\n",
       "  </tbody>\n",
       "</table>\n",
       "</div>"
      ],
      "text/plain": [
       "              0                1                2                3  \\\n",
       "0  OrbitDataset  2.0000 ± 0.8165  0.4333 ± 0.1247  0.2667 ± 0.1247   \n",
       "\n",
       "                 4                5  \n",
       "0  0.1333 ± 0.0471  0.5000 ± 0.0816  "
      ]
     },
     "execution_count": 32,
     "metadata": {},
     "output_type": "execute_result"
    }
   ],
   "source": [
    "import json\n",
    "import numpy as np\n",
    "import pandas as pd\n",
    "\n",
    "## Approximation table \n",
    "\n",
    "#f = open('result_metrics.json')\n",
    "#all_metrics = json.load(f)\n",
    "\n",
    "w2s = []\n",
    "times = []\n",
    "pies = []\n",
    "\n",
    "## parameters for pd model\n",
    "dataset_name = 'OrbitDataset'\n",
    "model_name = 'Set2Set'\n",
    "exp_name= 'set2set_orbit10k_500'\n",
    "\n",
    "metrics_names = ['W2', 'time_pd', 'PIE_pd']\n",
    "\n",
    "for metric_name in metrics_names:\n",
    "    obtained_metrics = all_metrics[dataset_name][model_name][exp_name][metric_name]\n",
    "    \n",
    "    mean = np.mean(obtained_metrics)\n",
    "    std = np.std(obtained_metrics)\n",
    "    res = f'{mean:.4f} ± {std:.4f}'\n",
    "    if metric_name == 'W2':\n",
    "        w2s.append(res)\n",
    "    elif 'time' in metric_name:\n",
    "        times.append(res)\n",
    "    elif 'PIE' in metric_name:\n",
    "        pies.append(res)\n",
    "    \n",
    "## parameters for pi model\n",
    "dataset_name = 'OrbitDataset'\n",
    "model_name = 'TopologyNet'\n",
    "exp_name= 'topologynet_orbit10k_500'\n",
    "\n",
    "metrics_names = ['time_pi', 'PIE_pi']\n",
    "\n",
    "for metric_name in metrics_names:\n",
    "    \n",
    "    obtained_metrics = all_metrics[dataset_name][model_name][exp_name][metric_name]\n",
    "    \n",
    "    mean = np.mean(obtained_metrics)\n",
    "    std = np.std(obtained_metrics)\n",
    "    res = f'{mean:.4f} ± {std:.4f}'\n",
    "    if 'time' in metric_name:\n",
    "        times.append(res)\n",
    "    elif 'PIE' in metric_name:\n",
    "        pies.append(res)\n",
    "        \n",
    "result_row = [dataset_name]\n",
    "for w2 in w2s:\n",
    "    result_row.append(w2)\n",
    "for pie in pies:\n",
    "    result_row.append(pie)\n",
    "for time in times:\n",
    "    result_row.append(time)\n",
    "    \n",
    "df = pd.DataFrame([result_row])\n",
    "df"
   ]
  },
  {
   "cell_type": "code",
   "execution_count": 24,
   "metadata": {},
   "outputs": [
    {
     "data": {
      "text/plain": [
       "'54 ± 31'"
      ]
     },
     "execution_count": 24,
     "metadata": {},
     "output_type": "execute_result"
    }
   ],
   "source": [
    "res = f'{54 } ± {31}'\n",
    "res"
   ]
  }
 ],
 "metadata": {
  "kernelspec": {
   "display_name": "Python 3",
   "language": "python",
   "name": "python3"
  },
  "language_info": {
   "codemirror_mode": {
    "name": "ipython",
    "version": 3
   },
   "file_extension": ".py",
   "mimetype": "text/x-python",
   "name": "python",
   "nbconvert_exporter": "python",
   "pygments_lexer": "ipython3",
   "version": "3.6.7"
  }
 },
 "nbformat": 4,
 "nbformat_minor": 2
}
