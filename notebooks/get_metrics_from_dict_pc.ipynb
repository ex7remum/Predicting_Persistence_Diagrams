{
 "cells": [
  {
   "cell_type": "code",
   "execution_count": 2,
   "id": "ac4a93fb",
   "metadata": {},
   "outputs": [],
   "source": [
    "import torch \n",
    "import numpy as np\n",
    "\n",
    "n_repeat = 2 # тут номер последний, который в папке results есть (0, 1 или 2)\n",
    "\n",
    "name = './results/temp_pc_run_{}.pt'.format(n_repeat) # для облаков точек\n",
    "#name = './results/temp_images_run_{}.pt'.format(n_repeat) # для картинок\n",
    "\n",
    "metrics =  torch.load(name)"
   ]
  },
  {
   "cell_type": "code",
   "execution_count": 3,
   "id": "b6af40c8",
   "metadata": {
    "tags": []
   },
   "outputs": [
    {
     "data": {
      "text/plain": [
       "{'original_pi_Orbit5k_rfc_acc': [0.8986666666666666,\n",
       "  0.9026666666666666,\n",
       "  0.9026666666666666],\n",
       " 'original_pi_Orbit5k_logreg_acc': [0.8913333333333333,\n",
       "  0.8913333333333333,\n",
       "  0.8913333333333333],\n",
       " 'PointNet_TopN_Orbit5k_W2': [0.7604339883613084,\n",
       "  0.6135329152939495,\n",
       "  0.9407807244064893],\n",
       " 'PointNet_TopN_Orbit5k_bottleneck_distance': [0.023681033872747018,\n",
       "  0.01691816483263392,\n",
       "  0.018724718839502507],\n",
       " 'PointNet_TopN_Orbit5k_runtime': [0.0008842008908589681,\n",
       "  0.0008517977396647135,\n",
       "  0.0009479435284932454],\n",
       " 'PointNet_TopN_Orbit5k_rfc_acc': [0.9253333333333333,\n",
       "  0.9406666666666667,\n",
       "  0.9286666666666666],\n",
       " 'PointNet_TopN_Orbit5k_logreg_acc': [0.9253333333333333,\n",
       "  0.9453333333333334,\n",
       "  0.926],\n",
       " 'PointNet_TopN_Orbit5k_pred_pd_acc': [0.9046666622161865,\n",
       "  0.9359999895095825,\n",
       "  0.9213333129882812],\n",
       " 'PointNet_TopN_Orbit5k_real_pd_acc': [0.903333306312561,\n",
       "  0.9013333320617676,\n",
       "  0.9046666622161865],\n",
       " 'PointNet_TopN_Orbit5k_PIE': [4.417378561318275,\n",
       "  2.59450648451817,\n",
       "  2.579345240025602],\n",
       " 'TopologyNet_Orbit5k_runtime': [0.0004438762664794922,\n",
       "  0.00044498713811238604,\n",
       "  0.0004451746940612793],\n",
       " 'TopologyNet_Orbit5k_rfc_acc': [0.882, 0.914, 0.894],\n",
       " 'TopologyNet_Orbit5k_logreg_acc': [0.8853333333333333, 0.92, 0.904],\n",
       " 'TopologyNet_Orbit5k_PIE': [1.6086944986979166,\n",
       "  1.645251953125,\n",
       "  1.6594715169270833],\n",
       " 'RipsNet_Orbit5k_runtime': [7.220745086669922e-06,\n",
       "  7.845242818196614e-06,\n",
       "  7.623036702473958e-06],\n",
       " 'RipsNet_Orbit5k_rfc_acc': [0.8946666666666667, 0.8693333333333333, 0.88],\n",
       " 'RipsNet_Orbit5k_logreg_acc': [0.8706666666666667, 0.882, 0.8653333333333333],\n",
       " 'RipsNet_Orbit5k_PIE': [2.2794580078125, 2.39433984375, 2.663649088541667],\n",
       " 'DGCNN_Orbit5k_runtime': [0.0005697595278422037,\n",
       "  0.0005696864128112793,\n",
       "  0.0005675018628438314],\n",
       " 'DGCNN_Orbit5k_rfc_acc': [0.858, 0.8866666666666667, 0.85],\n",
       " 'DGCNN_Orbit5k_logreg_acc': [0.8946666666666667,\n",
       "  0.9093333333333333,\n",
       "  0.8926666666666667],\n",
       " 'DGCNN_Orbit5k_PIE': [1.7334694010416667,\n",
       "  1.7257936197916666,\n",
       "  1.8032628580729166]}"
      ]
     },
     "execution_count": 3,
     "metadata": {},
     "output_type": "execute_result"
    }
   ],
   "source": [
    "metrics"
   ]
  },
  {
   "cell_type": "code",
   "execution_count": 7,
   "id": "4a83140d",
   "metadata": {
    "tags": []
   },
   "outputs": [
    {
     "name": "stdout",
     "output_type": "stream",
     "text": [
      "original_pi_Orbit5k_rfc_acc                   90.13 ± 0.19\n",
      "original_pi_Orbit5k_logreg_acc                89.13 ± 0.00\n",
      "PointNet_TopN_Orbit5k_W2                      77.16 ± 13.38\n",
      "PointNet_TopN_Orbit5k_bottleneck_distance     1.98 ± 0.29\n",
      "PointNet_TopN_Orbit5k_runtime                 8.9 ± 0.4\n",
      "PointNet_TopN_Orbit5k_rfc_acc                 93.16 ± 0.66\n",
      "PointNet_TopN_Orbit5k_logreg_acc              93.22 ± 0.93\n",
      "PointNet_TopN_Orbit5k_pred_pd_acc             92.07 ± 1.28\n",
      "PointNet_TopN_Orbit5k_real_pd_acc             90.31 ± 0.14\n",
      "PointNet_TopN_Orbit5k_PIE                     319.71 ± 86.29\n",
      "TopologyNet_Orbit5k_runtime                   4.4 ± 0.0\n",
      "TopologyNet_Orbit5k_rfc_acc                   89.67 ± 1.32\n",
      "TopologyNet_Orbit5k_logreg_acc                90.31 ± 1.42\n",
      "TopologyNet_Orbit5k_PIE                       163.78 ± 2.14\n",
      "RipsNet_Orbit5k_runtime                       0.1 ± 0.0\n",
      "RipsNet_Orbit5k_rfc_acc                       88.13 ± 1.04\n",
      "RipsNet_Orbit5k_logreg_acc                    87.27 ± 0.69\n",
      "RipsNet_Orbit5k_PIE                           244.58 ± 16.10\n",
      "DGCNN_Orbit5k_runtime                         5.7 ± 0.0\n",
      "DGCNN_Orbit5k_rfc_acc                         86.49 ± 1.57\n",
      "DGCNN_Orbit5k_logreg_acc                      89.89 ± 0.74\n",
      "DGCNN_Orbit5k_PIE                             175.42 ± 3.49\n"
     ]
    }
   ],
   "source": [
    "for key, value in metrics.items():\n",
    "    if \"runtime\" not in key:\n",
    "        print(\"{:45} {:.2f} ± {:.2f}\".format(key, np.mean(value)*100, np.std(value)*100))\n",
    "    else:\n",
    "        print(\"{:45} {:.1f} ± {:.1f}\".format(key, np.mean(value)*10000, np.std(value)*10000))"
   ]
  },
  {
   "cell_type": "code",
   "execution_count": null,
   "id": "c007d938",
   "metadata": {},
   "outputs": [],
   "source": []
  },
  {
   "cell_type": "code",
   "execution_count": null,
   "id": "d90e55f3",
   "metadata": {},
   "outputs": [],
   "source": []
  },
  {
   "cell_type": "code",
   "execution_count": 3,
   "id": "2702d52e",
   "metadata": {},
   "outputs": [],
   "source": [
    "import torch \n",
    "import numpy as np\n",
    "\n",
    "n_repeat = 0 # тут номер последний, который в папке results есть (0, 1 или 2)\n",
    "\n",
    "name = './results/temp_pc_run_{}.pt'.format(n_repeat) # для облаков точек\n",
    "#name = './results/temp_images_run_{}.pt'.format(n_repeat) # для картинок\n",
    "\n",
    "metrics =  torch.load(name)"
   ]
  },
  {
   "cell_type": "code",
   "execution_count": 4,
   "id": "f051496f",
   "metadata": {},
   "outputs": [
    {
     "name": "stdout",
     "output_type": "stream",
     "text": [
      "original_pi_Orbit5k_rfc_acc 0.6986666666666667 ± 0.0\n",
      "original_pi_Orbit5k_logreg_acc 0.6833333333333333 ± 0.0\n",
      "PointNet_TopN_Orbit5k_W2 0.4083235201806196 ± 0.0\n",
      "PointNet_TopN_Orbit5k_bottleneck_distance 0.03158319406911808 ± 0.0\n",
      "PointNet_TopN_Orbit5k_runtime 0.0003283581733703613 ± 0.0\n",
      "PointNet_TopN_Orbit5k_rfc_acc 0.8113333333333334 ± 0.0\n",
      "PointNet_TopN_Orbit5k_logreg_acc 0.8013333333333333 ± 0.0\n",
      "PointNet_TopN_Orbit5k_pred_pd_acc 0.8006666302680969 ± 0.0\n",
      "PointNet_TopN_Orbit5k_real_pd_acc 0.7233332991600037 ± 0.0\n",
      "PointNet_TopN_Orbit5k_PIE 11.284163576281076 ± 0.0\n",
      "TopologyNet_Orbit5k_runtime 6.373230616251627e-05 ± 0.0\n",
      "TopologyNet_Orbit5k_rfc_acc 0.7493333333333333 ± 0.0\n",
      "TopologyNet_Orbit5k_logreg_acc 0.76 ± 0.0\n",
      "TopologyNet_Orbit5k_PIE 10.904987630208334 ± 0.0\n",
      "RipsNet_Orbit5k_runtime 8.187452952067057e-06 ± 0.0\n",
      "RipsNet_Orbit5k_rfc_acc 0.8586666666666667 ± 0.0\n",
      "RipsNet_Orbit5k_logreg_acc 0.8913333333333333 ± 0.0\n",
      "RipsNet_Orbit5k_PIE 10.557334635416666 ± 0.0\n",
      "DGCNN_Orbit5k_runtime 8.181254069010416e-05 ± 0.0\n",
      "DGCNN_Orbit5k_rfc_acc 0.7246666666666667 ± 0.0\n",
      "DGCNN_Orbit5k_logreg_acc 0.7926666666666666 ± 0.0\n",
      "DGCNN_Orbit5k_PIE 10.458022786458333 ± 0.0\n"
     ]
    }
   ],
   "source": [
    "for key, value in metrics.items():\n",
    "    print(key, np.mean(value), '±', np.std(value))\n",
    "# в таблицу сами как-нибудь вручную проставьте, потому что я не знаю как так красиво сделать\n",
    "# как нам нужно"
   ]
  }
 ],
 "metadata": {
  "kernelspec": {
   "display_name": "Python 3 (ipykernel)",
   "language": "python",
   "name": "python3"
  },
  "language_info": {
   "codemirror_mode": {
    "name": "ipython",
    "version": 3
   },
   "file_extension": ".py",
   "mimetype": "text/x-python",
   "name": "python",
   "nbconvert_exporter": "python",
   "pygments_lexer": "ipython3",
   "version": "3.10.12"
  }
 },
 "nbformat": 4,
 "nbformat_minor": 5
}
