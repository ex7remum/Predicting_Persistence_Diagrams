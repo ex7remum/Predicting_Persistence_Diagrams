{
 "cells": [
  {
   "cell_type": "code",
   "execution_count": 1,
   "id": "a0ab24c5",
   "metadata": {},
   "outputs": [],
   "source": [
    "import torch \n",
    "import numpy as np\n",
    "\n",
    "n_repeat = 2 # тут номер последний, который в папке results есть (0, 1 или 2)\n",
    "\n",
    "#name = './results/temp_pc_run_{}.pt'.format(n_repeat) # для облаков точек\n",
    "name = './results/temp_images_run_{}.pt'.format(n_repeat) # для картинок\n",
    "\n",
    "metrics =  torch.load(name)"
   ]
  },
  {
   "cell_type": "code",
   "execution_count": 2,
   "id": "f8d41648",
   "metadata": {},
   "outputs": [
    {
     "data": {
      "text/plain": [
       "{'original_pi_Obayashi-Hiraoka_rfc_acc': [0.864, 0.862, 0.8666666666666667],\n",
       " 'original_pi_Obayashi-Hiraoka_logreg_acc': [0.8606666666666667,\n",
       "  0.8606666666666667,\n",
       "  0.8613333333333333],\n",
       " 'SimpleCNN_TopN_Obayashi-Hiraoka_W2': [2.751191060518237,\n",
       "  2.758823186711567,\n",
       "  2.7629166180363876],\n",
       " 'SimpleCNN_TopN_Obayashi-Hiraoka_bottleneck_distance': [0.04701468374331792,\n",
       "  0.04997504898905754,\n",
       "  0.04832967260479927],\n",
       " 'SimpleCNN_TopN_Obayashi-Hiraoka_runtime': [0.0010890243848164876,\n",
       "  0.001110200881958008,\n",
       "  0.0010962034861246744],\n",
       " 'SimpleCNN_TopN_Obayashi-Hiraoka_rfc_acc': [0.7733333333333333,\n",
       "  0.7653333333333333,\n",
       "  0.7606666666666667],\n",
       " 'SimpleCNN_TopN_Obayashi-Hiraoka_logreg_acc': [0.776,\n",
       "  0.7913333333333333,\n",
       "  0.7773333333333333],\n",
       " 'SimpleCNN_TopN_Obayashi-Hiraoka_pred_pd_acc': [0.7866666316986084,\n",
       "  0.7693333029747009,\n",
       "  0.777999997138977],\n",
       " 'SimpleCNN_TopN_Obayashi-Hiraoka_real_pd_acc': [0.8793333172798157,\n",
       "  0.8746666312217712,\n",
       "  0.8766666650772095],\n",
       " 'SimpleCNN_TopN_Obayashi-Hiraoka_PIE': [2.391175217608091,\n",
       "  2.1764442900046865,\n",
       "  2.6325732118693157],\n",
       " 'PINet_Obayashi-Hiraoka_runtime': [0.011804238319396972,\n",
       "  0.011804155667622884,\n",
       "  0.011803441524505616],\n",
       " 'PINet_Obayashi-Hiraoka_rfc_acc': [0.8926666666666667,\n",
       "  0.95,\n",
       "  0.9573333333333334],\n",
       " 'PINet_Obayashi-Hiraoka_logreg_acc': [0.9813333333333333,\n",
       "  0.9993333333333333,\n",
       "  0.9933333333333333],\n",
       " 'PINet_Obayashi-Hiraoka_PIE': [1.7377018229166667,\n",
       "  1.5422696940104166,\n",
       "  1.5169957682291666]}"
      ]
     },
     "execution_count": 2,
     "metadata": {},
     "output_type": "execute_result"
    }
   ],
   "source": [
    "metrics"
   ]
  },
  {
   "cell_type": "code",
   "execution_count": 3,
   "id": "fa19b6e2",
   "metadata": {},
   "outputs": [
    {
     "name": "stdout",
     "output_type": "stream",
     "text": [
      "original_pi_Obayashi-Hiraoka_rfc_acc          86.42 ± 0.19\n",
      "original_pi_Obayashi-Hiraoka_logreg_acc       86.09 ± 0.03\n",
      "SimpleCNN_TopN_Obayashi-Hiraoka_W2            275.76 ± 0.49\n",
      "SimpleCNN_TopN_Obayashi-Hiraoka_bottleneck_distance 4.84 ± 0.12\n",
      "SimpleCNN_TopN_Obayashi-Hiraoka_runtime       11.0 ± 0.1\n",
      "SimpleCNN_TopN_Obayashi-Hiraoka_rfc_acc       76.64 ± 0.52\n",
      "SimpleCNN_TopN_Obayashi-Hiraoka_logreg_acc    78.16 ± 0.69\n",
      "SimpleCNN_TopN_Obayashi-Hiraoka_pred_pd_acc   77.80 ± 0.71\n",
      "SimpleCNN_TopN_Obayashi-Hiraoka_real_pd_acc   87.69 ± 0.19\n",
      "SimpleCNN_TopN_Obayashi-Hiraoka_PIE           240.01 ± 18.63\n",
      "PINet_Obayashi-Hiraoka_runtime                118.0 ± 0.0\n",
      "PINet_Obayashi-Hiraoka_rfc_acc                93.33 ± 2.89\n",
      "PINet_Obayashi-Hiraoka_logreg_acc             99.13 ± 0.75\n",
      "PINet_Obayashi-Hiraoka_PIE                    159.90 ± 9.86\n"
     ]
    }
   ],
   "source": [
    "for key, value in metrics.items():\n",
    "    if \"runtime\" not in key:\n",
    "        print(\"{:45} {:.2f} ± {:.2f}\".format(key, np.mean(value)*100, np.std(value)*100))\n",
    "    else:\n",
    "        print(\"{:45} {:.1f} ± {:.1f}\".format(key, np.mean(value)*10000, np.std(value)*10000))"
   ]
  },
  {
   "cell_type": "code",
   "execution_count": null,
   "id": "2c8ae6a5",
   "metadata": {},
   "outputs": [],
   "source": []
  }
 ],
 "metadata": {
  "kernelspec": {
   "display_name": "Python 3 (ipykernel)",
   "language": "python",
   "name": "python3"
  },
  "language_info": {
   "codemirror_mode": {
    "name": "ipython",
    "version": 3
   },
   "file_extension": ".py",
   "mimetype": "text/x-python",
   "name": "python",
   "nbconvert_exporter": "python",
   "pygments_lexer": "ipython3",
   "version": "3.10.12"
  }
 },
 "nbformat": 4,
 "nbformat_minor": 5
}
