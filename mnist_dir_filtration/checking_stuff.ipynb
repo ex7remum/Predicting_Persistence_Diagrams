{
 "cells": [
  {
   "cell_type": "code",
   "execution_count": 25,
   "metadata": {},
   "outputs": [],
   "source": [
    "import torch\n",
    "import torchvision\n",
    "from torch.utils.data import Dataset\n",
    "from torchvision import transforms\n",
    "import math\n",
    "import numpy as np\n",
    "from utils import process_image\n",
    "from tqdm.notebook import tqdm\n",
    "import os\n",
    "import pickle as pkl\n",
    "\n",
    "\n",
    "def get_pds_from_data(dataset_type, data_path, filtration_func, filtration_path_name, limit=None, **kwargs):\n",
    "    # kwargs - additional params to filtr func\n",
    "    # data load\n",
    "    os.makedirs(filtration_path_name, exist_ok=True)\n",
    "    os.makedirs(data_path, exist_ok=True)\n",
    "    \n",
    "    \n",
    "    if dataset_type == \"MNIST\":\n",
    "        dataset_train = torchvision.datasets.MNIST(root=data_path, train=True, download=True, transform=transforms.ToTensor())\n",
    "        dataset_test = torchvision.datasets.MNIST(root=data_path, train=False, download=True, transform=transforms.ToTensor())\n",
    "    \n",
    "    pds_train = []\n",
    "    for i, (img, label) in tqdm(enumerate(dataset_train)):\n",
    "        diags, _ = filtration_func(img, **kwargs)\n",
    "        pds_train.append(diags)\n",
    "        \n",
    "        if limit is not None and len(pds_train) >= limit:\n",
    "            break\n",
    "    \n",
    "    name = f'{dataset_type}_pds.pkl'\n",
    "    \n",
    "    with open(filtration_path_name + '/' + name, 'wb') as f:\n",
    "        pkl.dump(pds_train, f)\n",
    "        \n",
    "    if dataset_test is not None:\n",
    "        pds_test = []\n",
    "        for i, (img, label) in tqdm(enumerate(dataset_test)):\n",
    "            diags, _ = filtration_func(img, **kwargs)\n",
    "            pds_test.append(diags)\n",
    "            \n",
    "            if limit is not None and len(pds_test) >= limit:\n",
    "                break\n",
    "        name = f'{dataset_type}_pds_test.pkl'\n",
    "        with open(filtration_path_name + '/' + name, 'wb') as f:\n",
    "            pkl.dump(pds_test, f)"
   ]
  },
  {
   "cell_type": "code",
   "execution_count": 31,
   "metadata": {},
   "outputs": [],
   "source": [
    "config = {\n",
    "    'dataset_type' : \"MNIST\",\n",
    "    'data_path': \"RAW/MNIST\",\n",
    "    'filtration_func': process_image,\n",
    "    'args': {\n",
    "        'num_filtrations': 10,\n",
    "        'filter_type': 'uniform',\n",
    "    },\n",
    "    'limit': None,\n",
    "    'filtration_path_name': 'PD/direction/10/'\n",
    "}"
   ]
  },
  {
   "cell_type": "code",
   "execution_count": 27,
   "metadata": {},
   "outputs": [
    {
     "data": {
      "application/vnd.jupyter.widget-view+json": {
       "model_id": "c1874acc20064b9587504cfa14a41222",
       "version_major": 2,
       "version_minor": 0
      },
      "text/plain": [
       "0it [00:00, ?it/s]"
      ]
     },
     "metadata": {},
     "output_type": "display_data"
    },
    {
     "data": {
      "application/vnd.jupyter.widget-view+json": {
       "model_id": "a5857ee225214b0890cd48c591e08033",
       "version_major": 2,
       "version_minor": 0
      },
      "text/plain": [
       "0it [00:00, ?it/s]"
      ]
     },
     "metadata": {},
     "output_type": "display_data"
    }
   ],
   "source": [
    "get_pds_from_data(config['dataset_type'], config['data_path'], \n",
    "                  config['filtration_func'], config['filtration_path_name'], **config['args'])"
   ]
  },
  {
   "cell_type": "code",
   "execution_count": 28,
   "metadata": {},
   "outputs": [],
   "source": [
    "dataset_type = config['dataset_type']\n",
    "\n",
    "name = f'{dataset_type}_pds.pkl'\n",
    "with open(config['filtration_path_name'] + '/' + name, 'rb') as f:\n",
    "        x = pkl.load(f)"
   ]
  },
  {
   "cell_type": "code",
   "execution_count": 30,
   "metadata": {},
   "outputs": [
    {
     "data": {
      "text/plain": [
       "tensor([[0.6073, 0.6200, 0.0000, 0.0000],\n",
       "        [0.3295, 1.0000, 0.0000, 0.0000],\n",
       "        [0.9490, 0.9922, 1.0000, 0.0000],\n",
       "        [0.7451, 0.9922, 1.0000, 0.0000],\n",
       "        [0.8824, 0.9922, 1.0000, 0.0000],\n",
       "        [0.9882, 0.9922, 1.0000, 0.0000],\n",
       "        [0.6745, 0.9922, 1.0000, 0.0000],\n",
       "        [0.6200, 1.0000, 1.0000, 0.0000],\n",
       "        [0.4503, 0.4531, 0.0000, 0.6283],\n",
       "        [0.4522, 0.4577, 0.0000, 0.6283],\n",
       "        [0.4568, 0.4596, 0.0000, 0.6283],\n",
       "        [0.4688, 0.4716, 0.0000, 0.6283],\n",
       "        [0.4457, 0.4763, 0.0000, 0.6283],\n",
       "        [0.5460, 0.5488, 0.0000, 0.6283],\n",
       "        [0.5609, 0.5636, 0.0000, 0.6283],\n",
       "        [0.6026, 0.6039, 0.0000, 0.6283],\n",
       "        [0.2619, 1.0000, 0.0000, 0.6283],\n",
       "        [0.9490, 0.9922, 1.0000, 0.6283],\n",
       "        [0.7451, 0.9922, 1.0000, 0.6283],\n",
       "        [0.8824, 0.9922, 1.0000, 0.6283],\n",
       "        [0.9882, 0.9922, 1.0000, 0.6283],\n",
       "        [0.6745, 0.9922, 1.0000, 0.6283],\n",
       "        [0.6174, 1.0000, 1.0000, 0.6283],\n",
       "        [0.4563, 0.5770, 0.0000, 1.2566],\n",
       "        [0.2852, 1.0000, 0.0000, 1.2566],\n",
       "        [0.9490, 0.9922, 1.0000, 1.2566],\n",
       "        [0.7451, 0.9922, 1.0000, 1.2566],\n",
       "        [0.8824, 0.9922, 1.0000, 1.2566],\n",
       "        [0.9882, 0.9922, 1.0000, 1.2566],\n",
       "        [0.6745, 0.9922, 1.0000, 1.2566],\n",
       "        [0.6034, 1.0000, 1.0000, 1.2566],\n",
       "        [0.5245, 0.5323, 0.0000, 1.8850],\n",
       "        [0.4797, 0.5566, 0.0000, 1.8850],\n",
       "        [0.2852, 1.0000, 0.0000, 1.8850],\n",
       "        [0.9490, 0.9922, 1.0000, 1.8850],\n",
       "        [0.7451, 0.9922, 1.0000, 1.8850],\n",
       "        [0.8824, 0.9922, 1.0000, 1.8850],\n",
       "        [0.9882, 0.9922, 1.0000, 1.8850],\n",
       "        [0.6745, 0.9922, 1.0000, 1.8850],\n",
       "        [0.6551, 1.0000, 1.0000, 1.8850],\n",
       "        [0.4355, 0.4383, 0.0000, 2.5133],\n",
       "        [0.4800, 0.4976, 0.0000, 2.5133],\n",
       "        [0.5070, 0.5144, 0.0000, 2.5133],\n",
       "        [0.2619, 1.0000, 0.0000, 2.5133],\n",
       "        [0.9490, 0.9922, 1.0000, 2.5133],\n",
       "        [0.7451, 0.9922, 1.0000, 2.5133],\n",
       "        [0.8824, 0.9922, 1.0000, 2.5133],\n",
       "        [0.9882, 0.9922, 1.0000, 2.5133],\n",
       "        [0.6806, 0.9922, 1.0000, 2.5133],\n",
       "        [0.6745, 1.0000, 1.0000, 2.5133],\n",
       "        [0.4432, 0.4558, 0.0000, 3.1416],\n",
       "        [0.4432, 0.4558, 0.0000, 3.1416],\n",
       "        [0.3295, 1.0000, 0.0000, 3.1416],\n",
       "        [0.9490, 0.9922, 1.0000, 3.1416],\n",
       "        [0.7451, 0.9922, 1.0000, 3.1416],\n",
       "        [0.8824, 0.9922, 1.0000, 3.1416],\n",
       "        [0.9882, 0.9922, 1.0000, 3.1416],\n",
       "        [0.6745, 0.9922, 1.0000, 3.1416],\n",
       "        [0.6452, 1.0000, 1.0000, 3.1416],\n",
       "        [0.4281, 0.4308, 0.0000, 3.7699],\n",
       "        [0.4670, 0.4902, 0.0000, 3.7699],\n",
       "        [0.4577, 0.4967, 0.0000, 3.7699],\n",
       "        [0.5739, 0.5767, 0.0000, 3.7699],\n",
       "        [0.5859, 0.5887, 0.0000, 3.7699],\n",
       "        [0.5905, 0.5933, 0.0000, 3.7699],\n",
       "        [0.5952, 0.5980, 0.0000, 3.7699],\n",
       "        [0.5998, 0.6026, 0.0000, 3.7699],\n",
       "        [0.2619, 1.0000, 0.0000, 3.7699],\n",
       "        [0.9490, 0.9922, 1.0000, 3.7699],\n",
       "        [0.7451, 0.9922, 1.0000, 3.7699],\n",
       "        [0.8824, 0.9922, 1.0000, 3.7699],\n",
       "        [0.9882, 0.9922, 1.0000, 3.7699],\n",
       "        [0.6745, 0.9922, 1.0000, 3.7699],\n",
       "        [0.6072, 1.0000, 1.0000, 3.7699],\n",
       "        [0.5287, 0.5365, 0.0000, 4.3982],\n",
       "        [0.4803, 0.5848, 0.0000, 4.3982],\n",
       "        [0.2852, 1.0000, 0.0000, 4.3982],\n",
       "        [0.9490, 0.9922, 1.0000, 4.3982],\n",
       "        [0.7451, 0.9922, 1.0000, 4.3982],\n",
       "        [0.8824, 0.9922, 1.0000, 4.3982],\n",
       "        [0.9882, 0.9922, 1.0000, 4.3982],\n",
       "        [0.6745, 0.9922, 1.0000, 4.3982],\n",
       "        [0.5995, 1.0000, 1.0000, 4.3982],\n",
       "        [0.5119, 0.5158, 0.0000, 5.0265],\n",
       "        [0.5077, 0.5683, 0.0000, 5.0265],\n",
       "        [0.2852, 1.0000, 0.0000, 5.0265],\n",
       "        [0.9490, 0.9922, 1.0000, 5.0265],\n",
       "        [0.7451, 0.9922, 1.0000, 5.0265],\n",
       "        [0.8824, 0.9922, 1.0000, 5.0265],\n",
       "        [0.9882, 0.9922, 1.0000, 5.0265],\n",
       "        [0.6745, 0.9922, 1.0000, 5.0265],\n",
       "        [0.6473, 1.0000, 1.0000, 5.0265],\n",
       "        [0.5209, 0.5265, 0.0000, 5.6549],\n",
       "        [0.5190, 0.5283, 0.0000, 5.6549],\n",
       "        [0.6277, 0.6304, 0.0000, 5.6549],\n",
       "        [0.2619, 1.0000, 0.0000, 5.6549],\n",
       "        [0.9490, 0.9922, 1.0000, 5.6549],\n",
       "        [0.7451, 0.9922, 1.0000, 5.6549],\n",
       "        [0.8824, 0.9922, 1.0000, 5.6549],\n",
       "        [0.9882, 0.9922, 1.0000, 5.6549],\n",
       "        [0.6745, 0.9922, 1.0000, 5.6549],\n",
       "        [0.6601, 1.0000, 1.0000, 5.6549]], dtype=torch.float64)"
      ]
     },
     "execution_count": 30,
     "metadata": {},
     "output_type": "execute_result"
    }
   ],
   "source": [
    "x[0]"
   ]
  },
  {
   "cell_type": "code",
   "execution_count": 1,
   "metadata": {},
   "outputs": [],
   "source": [
    "import json\n",
    "f = open('configs/train/img_transformer_config.json')\n"
   ]
  },
  {
   "cell_type": "code",
   "execution_count": 2,
   "metadata": {},
   "outputs": [],
   "source": [
    "data = json.load(f)"
   ]
  },
  {
   "cell_type": "code",
   "execution_count": 3,
   "metadata": {},
   "outputs": [
    {
     "data": {
      "text/plain": [
       "{'arch': {'type': 'ImageSet2Set',\n",
       "  'args': {'n_out_max': 32,\n",
       "   'd_in': 2,\n",
       "   'd_out': 2,\n",
       "   'd_hidden': 64,\n",
       "   'd_mlp': 256}},\n",
       " 'data': {'train': {'batch_size': 64,\n",
       "   'num_workers': 2,\n",
       "   'dataset': {'type': 'PDMnist',\n",
       "    'args': {'data_dir': 'RAW/MNIST',\n",
       "     'pd_dir': 'PD/direction/10/MNIST_pds.pkl',\n",
       "     'train': True}}},\n",
       "  'val': {'batch_size': 64,\n",
       "   'num_workers': 2,\n",
       "   'dataset': {'type': 'PDMnist',\n",
       "    'args': {'data_dir': 'RAW/MNIST',\n",
       "     'pd_dir': 'PD/direction/10/MNIST_pds_test.pkl',\n",
       "     'train': False}}}},\n",
       " 'optimizer': {'type': 'Adam', 'args': {'lr': 0.0003, 'weight_decay': 0.0001}},\n",
       " 'lr_scheduler': {'type': 'LinearLR',\n",
       "  'args': {'start_factor': 0.2, 'total_iters': 250}},\n",
       " 'loss': {'type': 'PersistenceWeightedSlicedWassersteinLoss',\n",
       "  'args': {'q': 1, 'reduce': 'sum', 'random_seed': 0}},\n",
       " 'trainer': {'n_epochs': 40,\n",
       "  'wandb_project': 'mnist_pds',\n",
       "  'run_name': 'mnist_10_filt_fixed_full',\n",
       "  'grad_norm_clip': 10}}"
      ]
     },
     "execution_count": 3,
     "metadata": {},
     "output_type": "execute_result"
    }
   ],
   "source": [
    "data"
   ]
  },
  {
   "cell_type": "code",
   "execution_count": 101,
   "metadata": {},
   "outputs": [
    {
     "ename": "AttributeError",
     "evalue": "module 'torch' has no attribute 'vmap'",
     "output_type": "error",
     "traceback": [
      "\u001b[1;31m---------------------------------------------------------------------------\u001b[0m",
      "\u001b[1;31mAttributeError\u001b[0m                            Traceback (most recent call last)",
      "\u001b[1;32m<ipython-input-101-0b3fac999a19>\u001b[0m in \u001b[0;36m<module>\u001b[1;34m\u001b[0m\n\u001b[1;32m----> 1\u001b[1;33m \u001b[1;32mimport\u001b[0m \u001b[0mlosses\u001b[0m\u001b[1;33m\u001b[0m\u001b[1;33m\u001b[0m\u001b[0m\n\u001b[0m\u001b[0;32m      2\u001b[0m \u001b[0mloss_fn\u001b[0m \u001b[1;33m=\u001b[0m \u001b[0mgetattr\u001b[0m\u001b[1;33m(\u001b[0m\u001b[0mlosses\u001b[0m\u001b[1;33m,\u001b[0m \u001b[0mdata\u001b[0m\u001b[1;33m[\u001b[0m\u001b[1;34m'loss'\u001b[0m\u001b[1;33m]\u001b[0m\u001b[1;33m[\u001b[0m\u001b[1;34m'type'\u001b[0m\u001b[1;33m]\u001b[0m\u001b[1;33m)\u001b[0m\u001b[1;33m\u001b[0m\u001b[1;33m\u001b[0m\u001b[0m\n",
      "\u001b[1;32m~\\pd_prediction\\Predicting_Persistence_Diagrams\\mnist_dir_filtration\\losses\\__init__.py\u001b[0m in \u001b[0;36m<module>\u001b[1;34m\u001b[0m\n\u001b[1;32m----> 1\u001b[1;33m \u001b[1;32mfrom\u001b[0m \u001b[0mlosses\u001b[0m\u001b[1;33m.\u001b[0m\u001b[0mlosses\u001b[0m \u001b[1;32mimport\u001b[0m \u001b[0mSlicedWassersteinLoss\u001b[0m\u001b[1;33m,\u001b[0m \u001b[0mWeightedSlicedWassersteinLoss\u001b[0m\u001b[1;33m,\u001b[0m \u001b[0mPersistenceWeightedSlicedWassersteinLoss\u001b[0m\u001b[1;33m,\u001b[0m \u001b[0mChamferLoss\u001b[0m\u001b[1;33m,\u001b[0m \u001b[0mHausdorffLoss\u001b[0m\u001b[1;33m\u001b[0m\u001b[1;33m\u001b[0m\u001b[0m\n\u001b[0m\u001b[0;32m      2\u001b[0m \u001b[1;33m\u001b[0m\u001b[0m\n\u001b[0;32m      3\u001b[0m __all__ = [\n\u001b[0;32m      4\u001b[0m    \u001b[1;34m\"SlicedWassersteinLoss\"\u001b[0m\u001b[1;33m,\u001b[0m\u001b[1;33m\u001b[0m\u001b[1;33m\u001b[0m\u001b[0m\n\u001b[0;32m      5\u001b[0m     \u001b[1;34m\"WeightedSlicedWassersteinLoss\"\u001b[0m\u001b[1;33m,\u001b[0m\u001b[1;33m\u001b[0m\u001b[1;33m\u001b[0m\u001b[0m\n",
      "\u001b[1;32m~\\pd_prediction\\Predicting_Persistence_Diagrams\\mnist_dir_filtration\\losses\\losses.py\u001b[0m in \u001b[0;36m<module>\u001b[1;34m\u001b[0m\n\u001b[0;32m      5\u001b[0m \u001b[1;32mfrom\u001b[0m \u001b[0mot\u001b[0m\u001b[1;33m.\u001b[0m\u001b[0mlp\u001b[0m \u001b[1;32mimport\u001b[0m \u001b[0mwasserstein_1d\u001b[0m\u001b[1;33m\u001b[0m\u001b[1;33m\u001b[0m\u001b[0m\n\u001b[0;32m      6\u001b[0m \u001b[1;33m\u001b[0m\u001b[0m\n\u001b[1;32m----> 7\u001b[1;33m \u001b[0msliced_wasserstein_distance_batched\u001b[0m \u001b[1;33m=\u001b[0m \u001b[0mtorch\u001b[0m\u001b[1;33m.\u001b[0m\u001b[0mvmap\u001b[0m\u001b[1;33m(\u001b[0m\u001b[0msliced_wasserstein_distance\u001b[0m\u001b[1;33m,\u001b[0m \u001b[0mrandomness\u001b[0m\u001b[1;33m=\u001b[0m\u001b[1;34m\"same\"\u001b[0m\u001b[1;33m)\u001b[0m\u001b[1;33m\u001b[0m\u001b[1;33m\u001b[0m\u001b[0m\n\u001b[0m\u001b[0;32m      8\u001b[0m \u001b[1;33m\u001b[0m\u001b[0m\n\u001b[0;32m      9\u001b[0m \u001b[1;32mdef\u001b[0m \u001b[0mweighted_sliced_wasserstein_distance_batched\u001b[0m\u001b[1;33m(\u001b[0m\u001b[0mX\u001b[0m\u001b[1;33m,\u001b[0m \u001b[0mY\u001b[0m\u001b[1;33m,\u001b[0m \u001b[0ma\u001b[0m\u001b[1;33m=\u001b[0m\u001b[1;32mNone\u001b[0m\u001b[1;33m,\u001b[0m \u001b[0mb\u001b[0m\u001b[1;33m=\u001b[0m\u001b[1;32mNone\u001b[0m\u001b[1;33m,\u001b[0m \u001b[0mP\u001b[0m\u001b[1;33m=\u001b[0m\u001b[1;32mNone\u001b[0m\u001b[1;33m,\u001b[0m \u001b[0mn_projections\u001b[0m\u001b[1;33m=\u001b[0m\u001b[1;36m64\u001b[0m\u001b[1;33m,\u001b[0m \u001b[0mp\u001b[0m\u001b[1;33m=\u001b[0m\u001b[1;36m2\u001b[0m\u001b[1;33m,\u001b[0m \u001b[0mdevice\u001b[0m\u001b[1;33m=\u001b[0m\u001b[1;32mNone\u001b[0m\u001b[1;33m,\u001b[0m \u001b[0mrandom_seed\u001b[0m\u001b[1;33m=\u001b[0m\u001b[1;32mNone\u001b[0m\u001b[1;33m)\u001b[0m\u001b[1;33m:\u001b[0m\u001b[1;33m\u001b[0m\u001b[1;33m\u001b[0m\u001b[0m\n",
      "\u001b[1;31mAttributeError\u001b[0m: module 'torch' has no attribute 'vmap'"
     ]
    }
   ],
   "source": [
    "import losses\n",
    "loss_fn = getattr(losses, data['loss']['type'])"
   ]
  },
  {
   "cell_type": "code",
   "execution_count": 4,
   "metadata": {},
   "outputs": [],
   "source": [
    "import datasets\n",
    "train_dataset = getattr(datasets, data['data']['train']['dataset']['type'])(**data['data']['train']['dataset']['args'])"
   ]
  },
  {
   "cell_type": "code",
   "execution_count": 8,
   "metadata": {},
   "outputs": [],
   "source": [
    "import models\n",
    "\n",
    "model = getattr(models, data['arch']['type'])(**data['arch']['args'])"
   ]
  },
  {
   "cell_type": "code",
   "execution_count": 10,
   "metadata": {},
   "outputs": [],
   "source": [
    "import torch\n",
    "optimizer = getattr(torch.optim, data['optimizer']['type'])(model.parameters(), **data['optimizer']['args'])"
   ]
  },
  {
   "cell_type": "code",
   "execution_count": 15,
   "metadata": {},
   "outputs": [],
   "source": [
    "scheduler = getattr(torch.optim.lr_scheduler, data['lr_scheduler']['type'])(optimizer, **data['lr_scheduler']['args'])"
   ]
  },
  {
   "cell_type": "code",
   "execution_count": 56,
   "metadata": {},
   "outputs": [],
   "source": [
    "import utils\n",
    "fn = getattr(utils, data['filtration_func']['type'])"
   ]
  },
  {
   "cell_type": "code",
   "execution_count": 57,
   "metadata": {},
   "outputs": [
    {
     "data": {
      "text/plain": [
       "<function utils.process_image(img, num_filtrations, filter_type='uniform')>"
      ]
     },
     "execution_count": 57,
     "metadata": {},
     "output_type": "execute_result"
    }
   ],
   "source": [
    "fn"
   ]
  },
  {
   "cell_type": "code",
   "execution_count": 76,
   "metadata": {},
   "outputs": [
    {
     "name": "stdout",
     "output_type": "stream",
     "text": [
      "0it [00:00, ?it/s]\n",
      "0it [00:00, ?it/s]\n"
     ]
    }
   ],
   "source": [
    "! python prepare_dataset.py -c configs/data/mnist_dir10_config.json"
   ]
  },
  {
   "cell_type": "code",
   "execution_count": 79,
   "metadata": {},
   "outputs": [
    {
     "name": "stdout",
     "output_type": "stream",
     "text": [
      "tensor([[0.6073, 0.6200, 0.0000, 0.0000],\n",
      "        [0.3295, 1.0000, 0.0000, 0.0000],\n",
      "        [0.9490, 0.9922, 1.0000, 0.0000],\n",
      "        [0.7451, 0.9922, 1.0000, 0.0000],\n",
      "        [0.8824, 0.9922, 1.0000, 0.0000],\n",
      "        [0.9882, 0.9922, 1.0000, 0.0000],\n",
      "        [0.6745, 0.9922, 1.0000, 0.0000],\n",
      "        [0.6200, 1.0000, 1.0000, 0.0000],\n",
      "        [0.4503, 0.4531, 0.0000, 0.6283],\n",
      "        [0.4522, 0.4577, 0.0000, 0.6283],\n",
      "        [0.4568, 0.4596, 0.0000, 0.6283],\n",
      "        [0.4688, 0.4716, 0.0000, 0.6283],\n",
      "        [0.4457, 0.4763, 0.0000, 0.6283],\n",
      "        [0.5460, 0.5488, 0.0000, 0.6283],\n",
      "        [0.5609, 0.5636, 0.0000, 0.6283],\n",
      "        [0.6026, 0.6039, 0.0000, 0.6283],\n",
      "        [0.2619, 1.0000, 0.0000, 0.6283],\n",
      "        [0.9490, 0.9922, 1.0000, 0.6283],\n",
      "        [0.7451, 0.9922, 1.0000, 0.6283],\n",
      "        [0.8824, 0.9922, 1.0000, 0.6283],\n",
      "        [0.9882, 0.9922, 1.0000, 0.6283],\n",
      "        [0.6745, 0.9922, 1.0000, 0.6283],\n",
      "        [0.6174, 1.0000, 1.0000, 0.6283],\n",
      "        [0.4563, 0.5770, 0.0000, 1.2566],\n",
      "        [0.2852, 1.0000, 0.0000, 1.2566],\n",
      "        [0.9490, 0.9922, 1.0000, 1.2566],\n",
      "        [0.7451, 0.9922, 1.0000, 1.2566],\n",
      "        [0.8824, 0.9922, 1.0000, 1.2566],\n",
      "        [0.9882, 0.9922, 1.0000, 1.2566],\n",
      "        [0.6745, 0.9922, 1.0000, 1.2566],\n",
      "        [0.6034, 1.0000, 1.0000, 1.2566],\n",
      "        [0.5245, 0.5323, 0.0000, 1.8850],\n",
      "        [0.4797, 0.5566, 0.0000, 1.8850],\n",
      "        [0.2852, 1.0000, 0.0000, 1.8850],\n",
      "        [0.9490, 0.9922, 1.0000, 1.8850],\n",
      "        [0.7451, 0.9922, 1.0000, 1.8850],\n",
      "        [0.8824, 0.9922, 1.0000, 1.8850],\n",
      "        [0.9882, 0.9922, 1.0000, 1.8850],\n",
      "        [0.6745, 0.9922, 1.0000, 1.8850],\n",
      "        [0.6551, 1.0000, 1.0000, 1.8850],\n",
      "        [0.4355, 0.4383, 0.0000, 2.5133],\n",
      "        [0.4800, 0.4976, 0.0000, 2.5133],\n",
      "        [0.5070, 0.5144, 0.0000, 2.5133],\n",
      "        [0.2619, 1.0000, 0.0000, 2.5133],\n",
      "        [0.9490, 0.9922, 1.0000, 2.5133],\n",
      "        [0.7451, 0.9922, 1.0000, 2.5133],\n",
      "        [0.8824, 0.9922, 1.0000, 2.5133],\n",
      "        [0.9882, 0.9922, 1.0000, 2.5133],\n",
      "        [0.6806, 0.9922, 1.0000, 2.5133],\n",
      "        [0.6745, 1.0000, 1.0000, 2.5133],\n",
      "        [0.4432, 0.4558, 0.0000, 3.1416],\n",
      "        [0.4432, 0.4558, 0.0000, 3.1416],\n",
      "        [0.3295, 1.0000, 0.0000, 3.1416],\n",
      "        [0.9490, 0.9922, 1.0000, 3.1416],\n",
      "        [0.7451, 0.9922, 1.0000, 3.1416],\n",
      "        [0.8824, 0.9922, 1.0000, 3.1416],\n",
      "        [0.9882, 0.9922, 1.0000, 3.1416],\n",
      "        [0.6745, 0.9922, 1.0000, 3.1416],\n",
      "        [0.6452, 1.0000, 1.0000, 3.1416],\n",
      "        [0.4281, 0.4308, 0.0000, 3.7699],\n",
      "        [0.4670, 0.4902, 0.0000, 3.7699],\n",
      "        [0.4577, 0.4967, 0.0000, 3.7699],\n",
      "        [0.5739, 0.5767, 0.0000, 3.7699],\n",
      "        [0.5859, 0.5887, 0.0000, 3.7699],\n",
      "        [0.5905, 0.5933, 0.0000, 3.7699],\n",
      "        [0.5952, 0.5980, 0.0000, 3.7699],\n",
      "        [0.5998, 0.6026, 0.0000, 3.7699],\n",
      "        [0.2619, 1.0000, 0.0000, 3.7699],\n",
      "        [0.9490, 0.9922, 1.0000, 3.7699],\n",
      "        [0.7451, 0.9922, 1.0000, 3.7699],\n",
      "        [0.8824, 0.9922, 1.0000, 3.7699],\n",
      "        [0.9882, 0.9922, 1.0000, 3.7699],\n",
      "        [0.6745, 0.9922, 1.0000, 3.7699],\n",
      "        [0.6072, 1.0000, 1.0000, 3.7699],\n",
      "        [0.5287, 0.5365, 0.0000, 4.3982],\n",
      "        [0.4803, 0.5848, 0.0000, 4.3982],\n",
      "        [0.2852, 1.0000, 0.0000, 4.3982],\n",
      "        [0.9490, 0.9922, 1.0000, 4.3982],\n",
      "        [0.7451, 0.9922, 1.0000, 4.3982],\n",
      "        [0.8824, 0.9922, 1.0000, 4.3982],\n",
      "        [0.9882, 0.9922, 1.0000, 4.3982],\n",
      "        [0.6745, 0.9922, 1.0000, 4.3982],\n",
      "        [0.5995, 1.0000, 1.0000, 4.3982],\n",
      "        [0.5119, 0.5158, 0.0000, 5.0265],\n",
      "        [0.5077, 0.5683, 0.0000, 5.0265],\n",
      "        [0.2852, 1.0000, 0.0000, 5.0265],\n",
      "        [0.9490, 0.9922, 1.0000, 5.0265],\n",
      "        [0.7451, 0.9922, 1.0000, 5.0265],\n",
      "        [0.8824, 0.9922, 1.0000, 5.0265],\n",
      "        [0.9882, 0.9922, 1.0000, 5.0265],\n",
      "        [0.6745, 0.9922, 1.0000, 5.0265],\n",
      "        [0.6473, 1.0000, 1.0000, 5.0265],\n",
      "        [0.5209, 0.5265, 0.0000, 5.6549],\n",
      "        [0.5190, 0.5283, 0.0000, 5.6549],\n",
      "        [0.6277, 0.6304, 0.0000, 5.6549],\n",
      "        [0.2619, 1.0000, 0.0000, 5.6549],\n",
      "        [0.9490, 0.9922, 1.0000, 5.6549],\n",
      "        [0.7451, 0.9922, 1.0000, 5.6549],\n",
      "        [0.8824, 0.9922, 1.0000, 5.6549],\n",
      "        [0.9882, 0.9922, 1.0000, 5.6549],\n",
      "        [0.6745, 0.9922, 1.0000, 5.6549],\n",
      "        [0.6601, 1.0000, 1.0000, 5.6549]], dtype=torch.float64)\n"
     ]
    }
   ],
   "source": [
    "dataset_type = \"MNIST\"\n",
    "\n",
    "name = f'{dataset_type}_pds.pkl'\n",
    "with open('PD/direction/10/' + name, 'rb') as f:\n",
    "        x = pkl.load(f)\n",
    "print(x[0])"
   ]
  },
  {
   "cell_type": "code",
   "execution_count": null,
   "metadata": {},
   "outputs": [],
   "source": []
  },
  {
   "cell_type": "code",
   "execution_count": null,
   "metadata": {},
   "outputs": [],
   "source": []
  },
  {
   "cell_type": "code",
   "execution_count": 16,
   "metadata": {},
   "outputs": [
    {
     "name": "stderr",
     "output_type": "stream",
     "text": [
      "2024-04-15 19:14:45.676386: W tensorflow/stream_executor/platform/default/dso_loader.cc:64] Could not load dynamic library 'cudart64_110.dll'; dlerror: cudart64_110.dll not found\n",
      "2024-04-15 19:14:45.676417: I tensorflow/stream_executor/cuda/cudart_stub.cc:29] Ignore above cudart dlerror if you do not have a GPU set up on your machine.\n",
      "Traceback (most recent call last):\n",
      "  File \"train_pd_model.py\", line 9, in <module>\n",
      "    import losses\n",
      "  File \"C:\\Users\\yura-\\pd_prediction\\Predicting_Persistence_Diagrams\\mnist_dir_filtration\\losses\\__init__.py\", line 1, in <module>\n",
      "    from losses.losses import SlicedWassersteinLoss, WeightedSlicedWassersteinLoss, PersistenceWeightedSlicedWassersteinLoss, ChamferLoss, HausdorffLoss\n",
      "  File \"C:\\Users\\yura-\\pd_prediction\\Predicting_Persistence_Diagrams\\mnist_dir_filtration\\losses\\losses.py\", line 7, in <module>\n",
      "    sliced_wasserstein_distance_batched = torch.vmap(sliced_wasserstein_distance, randomness=\"same\")\n",
      "AttributeError: module 'torch' has no attribute 'vmap'\n"
     ]
    }
   ],
   "source": [
    "! python train_pd_model.py -c configs/train/img_transformer_config.json -w bbe60953ed99662c4459f461386ecd58a2f2ee3a "
   ]
  }
 ],
 "metadata": {
  "kernelspec": {
   "display_name": "Python 3",
   "language": "python",
   "name": "python3"
  },
  "language_info": {
   "codemirror_mode": {
    "name": "ipython",
    "version": 3
   },
   "file_extension": ".py",
   "mimetype": "text/x-python",
   "name": "python",
   "nbconvert_exporter": "python",
   "pygments_lexer": "ipython3",
   "version": "3.6.7"
  }
 },
 "nbformat": 4,
 "nbformat_minor": 2
}
