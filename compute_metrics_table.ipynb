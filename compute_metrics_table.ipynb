{
 "cells": [
  {
   "cell_type": "code",
   "execution_count": 13,
   "metadata": {},
   "outputs": [
    {
     "name": "stdout",
     "output_type": "stream",
     "text": [
      "W2: 0.77 +- 0.22999999999999998\n",
      "Time: 322.5 +- 0.5\n"
     ]
    }
   ],
   "source": [
    "import json\n",
    "import numpy as np\n",
    "import pandas as pd\n",
    "\n",
    "\n",
    "f = open('result_metrics.json')\n",
    "all_metrics = json.load(f)\n",
    "dataset_name = 'aboba'\n",
    "model_name = 'kek'\n",
    "exp_name= 'gg'\n",
    "\n",
    "metrics_names = ['W2', 'Time']\n",
    "\n",
    "for metric_name in metrics_names:\n",
    "    obtained_metrics = all_metrics[dataset_name][model_name][exp_name][metric_name]\n",
    "    \n",
    "    mean = np.mean(obtained_metrics)\n",
    "    std = np.std(obtained_metrics)\n",
    "    print(f'{metric_name}: {mean} +- {std}')"
   ]
  },
  {
   "cell_type": "code",
   "execution_count": 17,
   "metadata": {},
   "outputs": [
    {
     "data": {
      "text/plain": [
       "'54 ± 31'"
      ]
     },
     "execution_count": 17,
     "metadata": {},
     "output_type": "execute_result"
    }
   ],
   "source": [
    "res = f'{54 } ± {31}'\n",
    "res"
   ]
  }
 ],
 "metadata": {
  "kernelspec": {
   "display_name": "Python 3",
   "language": "python",
   "name": "python3"
  },
  "language_info": {
   "codemirror_mode": {
    "name": "ipython",
    "version": 3
   },
   "file_extension": ".py",
   "mimetype": "text/x-python",
   "name": "python",
   "nbconvert_exporter": "python",
   "pygments_lexer": "ipython3",
   "version": "3.6.7"
  }
 },
 "nbformat": 4,
 "nbformat_minor": 2
}
