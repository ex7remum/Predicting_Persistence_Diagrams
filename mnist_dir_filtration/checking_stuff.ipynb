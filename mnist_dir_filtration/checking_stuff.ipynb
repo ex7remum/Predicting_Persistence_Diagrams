{
 "cells": [
  {
   "cell_type": "code",
   "execution_count": 8,
   "metadata": {},
   "outputs": [],
   "source": [
    "import torch\n",
    "import wandb\n",
    "from torch.utils.data import DataLoader\n",
    "import argparse\n",
    "import json\n",
    "import datasets\n",
    "import utils\n",
    "import models\n",
    "import collate_fn\n",
    "import os\n",
    "from torch.nn import MSELoss\n",
    "from gudhi.representations.vector_methods import PersistenceImage as PersistenceImageGudhi\n",
    "from scipy.spatial import distance_matrix\n",
    "import numpy as np\n",
    "\n",
    "\n",
    "def compute_pimgr_parameters(diagrams):\n",
    "    min_b, max_b, min_p, max_p = 0., 0., 0., 0.\n",
    "    sigma = 0.\n",
    "    n_total = 0\n",
    "    for pd in diagrams:\n",
    "        pd = pd.numpy()\n",
    "        min_b = min(min_b, np.min(pd[..., 0]))\n",
    "        max_b = max(max_b, np.max(pd[..., 0]))\n",
    "        min_p = min(min_p, np.min(pd[..., 1] - pd[..., 0]))\n",
    "        max_p = max(max_p, np.max(pd[..., 1] - pd[..., 0]))\n",
    "        \n",
    "        pairwise_distances = np.triu(distance_matrix(pd, pd)).flatten()\n",
    "        pairwise_distances = pairwise_distances[pairwise_distances > 0]\n",
    "        if len(pairwise_distances) != 0:\n",
    "            sigma += np.quantile(pairwise_distances, q=0.2)\n",
    "            n_total += 1\n",
    "            \n",
    "    im_range = [min_b, max_b, min_p, max_p]\n",
    "    sigma /= n_total\n",
    "        \n",
    "    return sigma, im_range\n",
    "\n",
    "\n",
    "def val_step(model, valloader, pimgr, device):\n",
    "    model.eval()\n",
    "    pie = 0.\n",
    "    mse = MSELoss(reduction='sum')\n",
    "    val_len = len(valloader.dataset)\n",
    "    for item in valloader:\n",
    "        X, Z, v = item['items'], item['pds'], item['labels']\n",
    "        with torch.no_grad():\n",
    "            Z = Z[..., :2].to(torch.float32)\n",
    "            PI_pred = model(X.to(device))\n",
    "            PI_real = torch.from_numpy(pimgr.fit_transform(Z)).to(torch.float32).to(device)\n",
    "            pie += mse(PI_pred, PI_real)\n",
    "    # TODO: add image logging\n",
    "\n",
    "def train_loop(model, trainloader, valloader, optimizer, pimgr, device, scheduler=None, n_epochs=25, clip_norm=None):\n",
    "    torch.manual_seed(0)\n",
    "    loss_fn = MSELoss()\n",
    "    \n",
    "    for _ in range(n_epochs):\n",
    "        model.train()\n",
    "        for item in trainloader:\n",
    "            X, Z, v = item['items'], item['pds'], item['labels']\n",
    "            optimizer.zero_grad()\n",
    "            \n",
    "            Z = Z[..., :2].to(torch.float32)\n",
    "            PI_pred = model(X.to(device))\n",
    "            PI_real = torch.from_numpy(pimgr.fit_transform(Z)).to(torch.float32).to(device)\n",
    "\n",
    "            loss = loss_fn(PI_pred, PI_real)\n",
    "            \n",
    "            loss.backward()\n",
    "            print(loss.item())\n",
    "            \n",
    "            if clip_norm is not None:\n",
    "                torch.nn.utils.clip_grad_norm_(model.parameters(), clip_norm)\n",
    "                \n",
    "            optimizer.step()\n",
    "            \n",
    "            if scheduler is not None:\n",
    "                scheduler.step()\n",
    "\n",
    "            total_norm = 0\n",
    "            parameters = [p for p in model.parameters() if p.grad is not None and p.requires_grad]\n",
    "            for p in parameters:\n",
    "                param_norm = p.grad.detach().data.norm(2)\n",
    "                total_norm += param_norm.item() ** 2\n",
    "            total_norm = total_norm ** 0.5\n",
    "            lr = optimizer.param_groups[0]['lr']\n",
    "        \n",
    "        val_step(model, valloader, pimgr, device)\n",
    "    return model"
   ]
  },
  {
   "cell_type": "code",
   "execution_count": 3,
   "metadata": {},
   "outputs": [
    {
     "name": "stdout",
     "output_type": "stream",
     "text": [
      "0it [00:00, ?it/s]\n",
      "0it [00:00, ?it/s]\n"
     ]
    }
   ],
   "source": [
    "! python prepare_dataset.py -c configs/data_configs/mnist_dir10_config.json"
   ]
  },
  {
   "cell_type": "code",
   "execution_count": 9,
   "metadata": {},
   "outputs": [
    {
     "name": "stdout",
     "output_type": "stream",
     "text": [
      "0.5099318623542786\n",
      "0.41942235827445984\n",
      "0.4064459204673767\n",
      "0.3614691495895386\n",
      "0.351882666349411\n",
      "0.3438445031642914\n",
      "0.3277427852153778\n",
      "0.32322120666503906\n",
      "0.3016749620437622\n",
      "0.2933070957660675\n",
      "0.31784293055534363\n",
      "0.2852538824081421\n",
      "0.30231502652168274\n",
      "0.28275421261787415\n",
      "0.2775510251522064\n",
      "0.287678599357605\n",
      "0.2787315845489502\n",
      "0.26490336656570435\n",
      "0.28446871042251587\n",
      "0.2691546380519867\n",
      "0.2613142430782318\n",
      "0.27151480317115784\n",
      "0.2625015676021576\n",
      "0.2700839936733246\n",
      "0.2708098292350769\n",
      "0.25887516140937805\n",
      "0.26881152391433716\n",
      "0.2674817740917206\n",
      "0.250309020280838\n",
      "0.2616160213947296\n",
      "0.2511909604072571\n",
      "0.26083964109420776\n",
      "0.263485848903656\n",
      "0.27142032980918884\n",
      "0.2472911924123764\n",
      "0.24615336954593658\n",
      "0.2556246221065521\n",
      "0.2469237595796585\n",
      "0.25702881813049316\n",
      "0.24540546536445618\n",
      "0.23586420714855194\n",
      "0.2743873596191406\n",
      "0.24190902709960938\n",
      "0.23136886954307556\n",
      "0.26990988850593567\n",
      "0.2593736946582794\n",
      "0.24491190910339355\n",
      "0.24023108184337616\n",
      "0.2517169117927551\n",
      "0.24051637947559357\n",
      "0.2469940483570099\n",
      "0.2519209086894989\n",
      "0.24773423373699188\n",
      "0.234869584441185\n",
      "0.24527743458747864\n",
      "0.2528020143508911\n",
      "0.22924070060253143\n",
      "0.24189189076423645\n",
      "0.2322074919939041\n",
      "0.2462453842163086\n",
      "0.23371168971061707\n",
      "0.24414946138858795\n",
      "0.23744158446788788\n",
      "0.2431975156068802\n",
      "0.23816293478012085\n",
      "0.23710127174854279\n",
      "0.2404600828886032\n",
      "0.23843765258789062\n",
      "0.2369639128446579\n",
      "0.23811474442481995\n",
      "0.2506413459777832\n",
      "0.22259652614593506\n",
      "0.256634384393692\n",
      "0.22701050341129303\n",
      "0.22504878044128418\n",
      "0.23486419022083282\n",
      "0.23122040927410126\n",
      "0.2352774441242218\n",
      "0.23575107753276825\n",
      "0.22513456642627716\n",
      "0.23830072581768036\n",
      "0.23396284878253937\n",
      "0.2416650950908661\n",
      "0.23056794703006744\n",
      "0.23262432217597961\n",
      "0.23900249600410461\n",
      "0.2266523241996765\n",
      "0.2324034720659256\n",
      "0.2320287525653839\n",
      "0.23587368428707123\n",
      "0.22013407945632935\n",
      "0.22862929105758667\n",
      "0.24734526872634888\n",
      "0.23680590093135834\n",
      "0.21985141932964325\n",
      "0.2351447492837906\n",
      "0.23290479183197021\n",
      "0.23496367037296295\n",
      "0.22705139219760895\n",
      "0.22619077563285828\n",
      "0.23008447885513306\n",
      "0.2357095181941986\n",
      "0.2106006145477295\n",
      "0.24698993563652039\n",
      "0.23584966361522675\n",
      "0.2280678153038025\n",
      "0.24863114953041077\n",
      "0.21540449559688568\n",
      "0.22655366361141205\n",
      "0.22976775467395782\n",
      "0.2262919396162033\n",
      "0.23300175368785858\n",
      "0.22323749959468842\n",
      "0.23348046839237213\n",
      "0.22077299654483795\n",
      "0.22929130494594574\n",
      "0.23403306305408478\n",
      "0.241111159324646\n",
      "0.2166263610124588\n",
      "0.23052367568016052\n"
     ]
    },
    {
     "ename": "NameError",
     "evalue": "name 'run' is not defined",
     "output_type": "error",
     "traceback": [
      "\u001b[1;31m---------------------------------------------------------------------------\u001b[0m",
      "\u001b[1;31mNameError\u001b[0m                                 Traceback (most recent call last)",
      "\u001b[1;32m<ipython-input-9-9f9dd6ac16fe>\u001b[0m in \u001b[0;36m<module>\u001b[1;34m\u001b[0m\n\u001b[0;32m     34\u001b[0m \u001b[1;33m\u001b[0m\u001b[0m\n\u001b[0;32m     35\u001b[0m \u001b[0mos\u001b[0m\u001b[1;33m.\u001b[0m\u001b[0mmakedirs\u001b[0m\u001b[1;33m(\u001b[0m\u001b[1;34m'pretrained_models'\u001b[0m\u001b[1;33m,\u001b[0m \u001b[0mexist_ok\u001b[0m\u001b[1;33m=\u001b[0m\u001b[1;32mTrue\u001b[0m\u001b[1;33m)\u001b[0m\u001b[1;33m\u001b[0m\u001b[1;33m\u001b[0m\u001b[0m\n\u001b[1;32m---> 36\u001b[1;33m \u001b[0mtorch\u001b[0m\u001b[1;33m.\u001b[0m\u001b[0msave\u001b[0m\u001b[1;33m(\u001b[0m\u001b[0mfinal_model\u001b[0m\u001b[1;33m.\u001b[0m\u001b[0mstate_dict\u001b[0m\u001b[1;33m(\u001b[0m\u001b[1;33m)\u001b[0m\u001b[1;33m,\u001b[0m \u001b[1;34mf'pretrained_models/{run}_model.pth'\u001b[0m\u001b[1;33m)\u001b[0m\u001b[1;33m\u001b[0m\u001b[1;33m\u001b[0m\u001b[0m\n\u001b[0m",
      "\u001b[1;31mNameError\u001b[0m: name 'run' is not defined"
     ]
    }
   ],
   "source": [
    "\n",
    "    \n",
    "device = torch.device(\"cuda\" if torch.cuda.is_available() else \"cpu\")\n",
    "\n",
    "path = 'configs/train_configs/pinet_mnist_dir_10.json'\n",
    "f = open(path)\n",
    "config = json.load(f)\n",
    "\n",
    "train_dataset = getattr(datasets, config['data']['train']['dataset']['type'])(**config['data']['train']['dataset']['args'])\n",
    "test_dataset = getattr(datasets, config['data']['test']['dataset']['type'])(**config['data']['test']['dataset']['args'])\n",
    "\n",
    "collator = getattr(collate_fn, config['collator']['type'])\n",
    "\n",
    "trainloader = DataLoader(train_dataset, batch_size=config['data']['train']['batch_size'], \n",
    "                         num_workers=config['data']['train']['num_workers'], shuffle=True, drop_last=True, collate_fn=collator)\n",
    "testloader = DataLoader(test_dataset, batch_size=config['data']['test']['batch_size'], \n",
    "                        num_workers=config['data']['test']['num_workers'], shuffle=False, collate_fn=collator)\n",
    "\n",
    "\n",
    "model = getattr(models, config['arch']['type'])(**config['arch']['args']).to(device)\n",
    "\n",
    "optimizer = getattr(torch.optim, config['optimizer']['type'])(model.parameters(), **config['optimizer']['args'])\n",
    "scheduler = getattr(torch.optim.lr_scheduler, config['lr_scheduler']['type'])(optimizer, **config['lr_scheduler']['args'])\n",
    "\n",
    "sigma, im_range = compute_pimgr_parameters(train_dataset.pds)\n",
    "\n",
    "pimgr = PersistenceImageGudhi(bandwidth=sigma,\n",
    "                              resolution=[50, 50],\n",
    "                              weight=lambda x: (x[1])**2,\n",
    "                              im_range=im_range)\n",
    "\n",
    "final_model = train_loop(model, trainloader, testloader, optimizer, pimgr, device, \n",
    "                         scheduler, n_epochs=config[\"trainer\"][\"n_epochs\"], clip_norm=config[\"trainer\"][\"grad_norm_clip\"])\n",
    "\n",
    "os.makedirs('pretrained_models', exist_ok=True)\n",
    "torch.save(final_model.state_dict(), f'pretrained_models/{run}_model.pth')"
   ]
  },
  {
   "cell_type": "code",
   "execution_count": 36,
   "metadata": {},
   "outputs": [
    {
     "name": "stdout",
     "output_type": "stream",
     "text": [
      "tensor(0.)\n"
     ]
    },
    {
     "data": {
      "image/png": "[encoded data removed]",
      "text/plain": [
       "<Figure size 432x288 with 1 Axes>"
      ]
     },
     "metadata": {
      "needs_background": "light"
     },
     "output_type": "display_data"
    },
    {
     "data": {
      "image/png": "[encoded data removed]",
      "text/plain": [
       "<Figure size 432x288 with 1 Axes>"
      ]
     },
     "metadata": {
      "needs_background": "light"
     },
     "output_type": "display_data"
    },
    {
     "name": "stdout",
     "output_type": "stream",
     "text": [
      "tensor(1.1373)\n"
     ]
    },
    {
     "data": {
      "image/png": "[encoded data removed]",
      "text/plain": [
       "<Figure size 432x288 with 1 Axes>"
      ]
     },
     "metadata": {
      "needs_background": "light"
     },
     "output_type": "display_data"
    }
   ],
   "source": [
    "from matplotlib import pyplot as plt\n",
    "\n",
    "final_model.eval()\n",
    "\n",
    "pimgr = PersistenceImageGudhi(bandwidth=0.05,\n",
    "                              resolution=[50, 50],\n",
    "                              weight=lambda x: (x[1]),\n",
    "                              im_range=im_range)\n",
    "\n",
    "for item in trainloader:\n",
    "    X, Z, v = item['items'], item['pds'], item['labels']\n",
    "    PI_real = torch.from_numpy(pimgr.fit_transform(Z)).to(torch.float32) \n",
    "    PI_real = PI_real / PI_real.max(dim=1, keepdim=True)[0]\n",
    "    \n",
    "    with torch.no_grad():\n",
    "        Z = Z[..., :2].to(torch.float32)\n",
    "        PI_pred = model(X.to(device))\n",
    "    \n",
    "    PI_real = PI_real.view(64, 50, 50)\n",
    "    print(PI_real.min())\n",
    "    PI_real[0]\n",
    "    plt.scatter(Z[0, :, 0], Z[0, :, 1] - Z[0, :, 0])\n",
    "    plt.show()\n",
    "    plt.imshow(img)\n",
    "    plt.show()\n",
    "    \n",
    "    PI_pred = PI_pred.view(64, 50, 50)\n",
    "    print(PI_pred.max())\n",
    "    img = PI_pred[0]\n",
    "    plt.imshow(img)\n",
    "    plt.show()\n",
    "    \n",
    "    break"
   ]
  },
  {
   "cell_type": "code",
   "execution_count": 32,
   "metadata": {},
   "outputs": [
    {
     "data": {
      "text/plain": [
       "tensor([[2.7356e-10, 6.7342e-09, 1.2826e-07,  ..., 9.7610e-15, 1.6492e-16,\n",
       "         2.1531e-18],\n",
       "        [2.6761e-10, 6.5858e-09, 1.2539e-07,  ..., 2.0047e-02, 5.7047e-03,\n",
       "         1.2539e-03],\n",
       "        [2.7056e-10, 6.6603e-09, 1.2686e-07,  ..., 1.4310e-14, 2.2547e-16,\n",
       "         2.7452e-18],\n",
       "        ...,\n",
       "        [2.7056e-10, 6.6603e-09, 1.2686e-07,  ..., 3.2265e-11, 9.7177e-13,\n",
       "         2.2625e-14],\n",
       "        [2.6990e-10, 6.6442e-09, 1.2655e-07,  ..., 1.6819e-02, 5.8416e-03,\n",
       "         1.5671e-03],\n",
       "        [2.7056e-10, 6.6603e-09, 1.2686e-07,  ..., 1.4652e-02, 6.8621e-03,\n",
       "         2.4823e-03]])"
      ]
     },
     "execution_count": 32,
     "metadata": {},
     "output_type": "execute_result"
    }
   ],
   "source": [
    "PI_real.max(dim=1)[0]"
   ]
  },
  {
   "cell_type": "code",
   "execution_count": 26,
   "metadata": {},
   "outputs": [
    {
     "data": {
      "text/plain": [
       "[0.0, 0.9960784316062927, 0.0, 0.7381034392506136]"
      ]
     },
     "execution_count": 26,
     "metadata": {},
     "output_type": "execute_result"
    }
   ],
   "source": [
    "im_range"
   ]
  },
  {
   "cell_type": "code",
   "execution_count": 25,
   "metadata": {},
   "outputs": [
    {
     "name": "stdout",
     "output_type": "stream",
     "text": [
      "0\n"
     ]
    }
   ],
   "source": [
    "kek = {\n",
    "    \"a\": 1\n",
    "}\n",
    "if 'a' in kek:\n",
    "    print(0)\n",
    "else:\n",
    "    print(1)"
   ]
  },
  {
   "cell_type": "code",
   "execution_count": 37,
   "metadata": {},
   "outputs": [
    {
     "name": "stdout",
     "output_type": "stream",
     "text": [
      "tensor(1, dtype=torch.int32)\n",
      "tensor(2, dtype=torch.int32)\n",
      "tensor(3, dtype=torch.int32)\n",
      "tensor(4, dtype=torch.int32)\n"
     ]
    }
   ],
   "source": [
    "a = np.array([1 ,2 ,3, 4])\n",
    "lol = torch.from_numpy(a)\n",
    "\n",
    "for m in lol:\n",
    "    print(m)"
   ]
  },
  {
   "cell_type": "code",
   "execution_count": 50,
   "metadata": {},
   "outputs": [
    {
     "data": {
      "text/plain": [
       "torch.Size([64, 1, 50, 50])"
      ]
     },
     "execution_count": 50,
     "metadata": {},
     "output_type": "execute_result"
    }
   ],
   "source": [
    "v = torch.randn(64, 1, 50, 50)\n",
    "v.shape"
   ]
  },
  {
   "cell_type": "code",
   "execution_count": 51,
   "metadata": {},
   "outputs": [
    {
     "data": {
      "text/plain": [
       "torch.Size([418, 418])"
      ]
     },
     "execution_count": 51,
     "metadata": {},
     "output_type": "execute_result"
    }
   ],
   "source": [
    "import torchvision\n",
    "kek = torchvision.utils.make_grid(v)\n",
    "kek[0].shape"
   ]
  }
 ],
 "metadata": {
  "kernelspec": {
   "display_name": "Python 3",
   "language": "python",
   "name": "python3"
  },
  "language_info": {
   "codemirror_mode": {
    "name": "ipython",
    "version": 3
   },
   "file_extension": ".py",
   "mimetype": "text/x-python",
   "name": "python",
   "nbconvert_exporter": "python",
   "pygments_lexer": "ipython3",
   "version": "3.6.7"
  }
 },
 "nbformat": 4,
 "nbformat_minor": 2
}
